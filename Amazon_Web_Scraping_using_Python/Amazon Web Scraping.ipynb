{
 "cells": [
  {
   "cell_type": "code",
   "execution_count": 1,
   "id": "6373609c-75c2-49e0-a649-cac5e0f61141",
   "metadata": {},
   "outputs": [],
   "source": [
    "# import libraries\n",
    "\n",
    "from bs4 import BeautifulSoup\n",
    "import requests\n",
    "import smtplib\n",
    "import time\n",
    "import datetime"
   ]
  },
  {
   "cell_type": "code",
   "execution_count": null,
   "id": "522e545c-cf65-4927-83f4-535531e5f7dd",
   "metadata": {},
   "outputs": [],
   "source": [
    "import pandas as pd\n",
    "\n",
    "df = pd.read_csv(r'C:\\Users\\Barno Bayramova\\OneDrive\\Рабочий стол\\portfolio projects\\Amazon Web Scraping\\AmazonWebScraperDataset.csv')\n",
    "\n",
    "print(df)"
   ]
  },
  {
   "cell_type": "code",
   "execution_count": 3,
   "id": "f343b3e9-a4a6-4336-864d-28009ad60f9e",
   "metadata": {},
   "outputs": [],
   "source": [
    "def check_price():\n",
    "    URL = 'https://www.amazon.com/Marble-Fruit-Decorative-Ruffle-Floral/dp/B0CLJGRRL3/ref=sr_1_29?content-id=amzn1.sym.d5f7eb83-d6af-4bbb-8897-326096d3c06a%3Aamzn1.sym.d5f7eb83-d6af-4bbb-8897-326096d3c06a&dib=eyJ2IjoiMSJ9.ORi0l6UePUkJaj_Yn5SsNmIg7Qdf9yypb_jWrBHgf74NK168aFoVX_tkMH_A2JyvxGb7uMWnjNs1JBtE9EYry0pJO5CUcNkPVIts23MRZc1nbUhW4kV5E3eIR7vAOokBSYzS5VAkG1bcE1FJdhjRoxwlFKvyBxd0u0S1XcZSB7ZL1x27ruPuJg-nyzBnC52aVcEDo27rP56v2ll-gtVSnkfAEh46zJXXxqo3BDKKBY23MOiI_fL_44zKRA_jLBY-qdxUY_NAirZ31bfmazZHqgoSssGmWtxUuWfc_dFrHaY.Buy-nLnd4gB-0wa9WXf1ez_6LtISSoAx5CEu7wgKIO8&dib_tag=se&keywords=home+decor&pd_rd_r=9ff2fb40-a2bf-40a8-81f3-d2008b3c98b0&pd_rd_w=klSmc&pd_rd_wg=Dv9GK&qid=1751436820&s=handmade&sr=1-29'\n",
    "\n",
    "    headers = {\"User-Agent\": \"Mozilla/5.0 (Windows NT 10.0; Win64; x64) AppleWebKit/537.36 (KHTML, like Gecko) Chrome/78.0.3904.108 Safari/537.36\", \"Accept-Encoding\":\"gzip, deflate\", \"Accept\":\"text/html,application/xhtml+xml,application/xml;q=0.9,*/*;q=0.8\", \"DNT\":\"1\",\"Connection\":\"close\", \"Upgrade-Insecure-Requests\":\"1\"}\n",
    "\n",
    "    page = requests.get(URL, headers=headers)\n",
    "\n",
    "    soup1 = BeautifulSoup(page.content, \"html.parser\")\n",
    "    soup2 = BeautifulSoup(soup1.prettify(), \"html.parser\")\n",
    "\n",
    "    title = soup2.find(id='productTitle').get_text()\n",
    "    title = title.strip()\n",
    "\n",
    "\n",
    "    # Cleanly extract parts\n",
    "    whole = soup2.find('span', class_='a-price-whole').get_text(strip=True).replace('.', '')\n",
    "    fraction = soup2.find('span', class_='a-price-fraction').get_text(strip=True).replace('\\n', '')\n",
    "    \n",
    "    # Combine them\n",
    "    price = f\"{whole}.{fraction}\"\n",
    "\n",
    "    import datetime\n",
    "    today = datetime.date.today()\n",
    "\n",
    "    import csv \n",
    "    header = ['Title', 'Price', 'Last update data']\n",
    "    data = [title, price, today]\n",
    "\n",
    "    with open(r'C:\\Users\\Barno Bayramova\\OneDrive\\Рабочий стол\\portfolio projects\\Amazon Web Scraping\\AmazonWebScraperDataset.csv', 'a+', newline='', encoding='UTF8') as f:\n",
    "        writer = csv.writer(f)\n",
    "        writer.writerow(data)"
   ]
  },
  {
   "cell_type": "code",
   "execution_count": null,
   "id": "29c2b389-4406-4d37-91af-d536b2127201",
   "metadata": {},
   "outputs": [],
   "source": [
    "# Runs check_price after a set time and inputs data into your CSV\n",
    "\n",
    "while(True):\n",
    "    check_price()\n",
    "    time.sleep(86400) # runs every 24 hours"
   ]
  }
 ],
 "metadata": {
  "kernelspec": {
   "display_name": "Python 3 (ipykernel)",
   "language": "python",
   "name": "python3"
  },
  "language_info": {
   "codemirror_mode": {
    "name": "ipython",
    "version": 3
   },
   "file_extension": ".py",
   "mimetype": "text/x-python",
   "name": "python",
   "nbconvert_exporter": "python",
   "pygments_lexer": "ipython3",
   "version": "3.12.4"
  }
 },
 "nbformat": 4,
 "nbformat_minor": 5
}
