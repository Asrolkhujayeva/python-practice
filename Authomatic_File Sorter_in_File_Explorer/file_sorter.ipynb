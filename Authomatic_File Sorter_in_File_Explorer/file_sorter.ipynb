{
 "cells": [
  {
   "cell_type": "markdown",
   "id": "1254882e-8eb2-41d7-b0ff-09c64fac153a",
   "metadata": {},
   "source": [
    "# **Automatic File Sorter in File Explorer**"
   ]
  },
  {
   "cell_type": "code",
   "execution_count": 1,
   "id": "f5d5cbd9-7524-49f9-ade6-ef1abd53b1b4",
   "metadata": {},
   "outputs": [],
   "source": [
    "import os, shutil"
   ]
  },
  {
   "cell_type": "code",
   "execution_count": 2,
   "id": "e619d434-a29b-40b7-8f96-6637d24b189f",
   "metadata": {},
   "outputs": [],
   "source": [
    "path = r\"C:/Users/Barno Bayramova/OneDrive/Рабочий стол/python practice/Authomatic File Sorter in File Explorer/\""
   ]
  },
  {
   "cell_type": "code",
   "execution_count": 3,
   "id": "6928c266-011f-4eb6-a486-6a9a449b40e7",
   "metadata": {},
   "outputs": [],
   "source": [
    "file_name = os.listdir(path)"
   ]
  },
  {
   "cell_type": "code",
   "execution_count": 4,
   "id": "2631c0f2-430c-4a91-84d7-dd4dba02c04f",
   "metadata": {},
   "outputs": [],
   "source": [
    "folder_names = ['csv files', 'images', 'text files']\n",
    "\n",
    "for i in range(0,3):\n",
    "    if not os.path.exists(path + folder_names[i]):\n",
    "        print(path + folder_names[i])\n",
    "        os.makedirs(path + folder_names[i])"
   ]
  },
  {
   "cell_type": "code",
   "execution_count": 5,
   "id": "78b064c3-16e6-4951-990a-6c32406a2538",
   "metadata": {},
   "outputs": [],
   "source": [
    "for file in file_name:\n",
    "    if \".csv\" in file and not os.path.exists(path + \"csv files/\" + file):\n",
    "        shutil.move(path + file, path + \"csv files/\" + file)\n",
    "    elif \".jpg\" in file and not os.path.exists(path + \"images/\" + file):\n",
    "        shutil.move(path + file, path + \"images/\" + file)\n",
    "    elif \".txt\" in file and not os.path.exists(path + \"text files/\" + file):\n",
    "        shutil.move(path + file, path + \"text files/\" + file)\n",
    "    "
   ]
  },
  {
   "cell_type": "code",
   "execution_count": null,
   "id": "ccf1dae6-af0a-496d-93fd-80c40c3c387b",
   "metadata": {},
   "outputs": [],
   "source": []
  },
  {
   "cell_type": "code",
   "execution_count": null,
   "id": "cc3ab1f5-1482-4bf8-ba1c-3272957b9cb5",
   "metadata": {},
   "outputs": [],
   "source": []
  },
  {
   "cell_type": "code",
   "execution_count": null,
   "id": "111052d3-c643-4445-ab48-76a34f93f2ad",
   "metadata": {},
   "outputs": [],
   "source": []
  },
  {
   "cell_type": "code",
   "execution_count": null,
   "id": "02ae679a-0d2c-4af6-b87d-ecefc1937690",
   "metadata": {},
   "outputs": [],
   "source": []
  }
 ],
 "metadata": {
  "kernelspec": {
   "display_name": "Python 3 (ipykernel)",
   "language": "python",
   "name": "python3"
  },
  "language_info": {
   "codemirror_mode": {
    "name": "ipython",
    "version": 3
   },
   "file_extension": ".py",
   "mimetype": "text/x-python",
   "name": "python",
   "nbconvert_exporter": "python",
   "pygments_lexer": "ipython3",
   "version": "3.12.4"
  }
 },
 "nbformat": 4,
 "nbformat_minor": 5
}
