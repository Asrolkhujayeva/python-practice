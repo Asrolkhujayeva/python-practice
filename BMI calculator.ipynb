{
 "cells": [
  {
   "cell_type": "markdown",
   "id": "7ae55f76-1fbc-4945-99f8-3f08aa9bcfdc",
   "metadata": {},
   "source": [
    "**BMI Calculator**"
   ]
  },
  {
   "cell_type": "markdown",
   "id": "2935c679-f1ff-44dc-906e-5fea34633d3e",
   "metadata": {},
   "source": [
    "$$\r\n",
    "\\text{BMI} = \\frac{\\text{Weight (kg)} \\times 10,\\!000}{\\left(\\text{Height (cm)}\\right)^2}\r\n",
    "$$\n",
    "​\n",
    " \n",
    "\n"
   ]
  },
  {
   "cell_type": "code",
   "execution_count": 18,
   "id": "9cf1eb77-3e5e-4bc5-97c5-48bf61ffcc30",
   "metadata": {},
   "outputs": [
    {
     "name": "stdin",
     "output_type": "stream",
     "text": [
      "Enter your weight in kilograms:  -65\n",
      "Enter your height in cantimeters:  100\n"
     ]
    },
    {
     "name": "stdout",
     "output_type": "stream",
     "text": [
      "\n",
      "Your Body Mass Index is:  -65.0\n",
      "Invalid data\n"
     ]
    }
   ],
   "source": [
    "weight = int(input(\"Enter your weight in kilograms: \"))\n",
    "height = int(input(\"Enter your height in cantimeters: \"))\n",
    "\n",
    "bmi = (weight * 10000)/(height * height)\n",
    "\n",
    "print('\\nYour Body Mass Index is: ',bmi)\n",
    "\n",
    "if 0 < bmi < 18.5:\n",
    "    print('Underweight -> Minimal')\n",
    "elif 18.5 <= bmi <=24.9:\n",
    "    print('Normal Weight -> Minimal')\n",
    "elif 25 <= bmi <=29.9:\n",
    "    print('Overweight -> Increased')\n",
    "elif 30 <= bmi <=34.9:\n",
    "    print('Obese -> High')\n",
    "elif 35 <= bmi <=39.9:\n",
    "    print('Severely Obese -> Very High')\n",
    "elif bmi >= 40:\n",
    "    print('Morbidly Obese -> Extremely High')\n",
    "else:\n",
    "    print('Invalid data')"
   ]
  },
  {
   "cell_type": "code",
   "execution_count": null,
   "id": "62312cea-9843-406a-b428-d0bff0f0614a",
   "metadata": {},
   "outputs": [],
   "source": []
  },
  {
   "cell_type": "code",
   "execution_count": null,
   "id": "452b7f2c-be3c-4471-b796-5b08872b5454",
   "metadata": {},
   "outputs": [],
   "source": []
  },
  {
   "cell_type": "code",
   "execution_count": null,
   "id": "7182b252-76f4-4fbd-8266-e2a6eb21ee35",
   "metadata": {},
   "outputs": [],
   "source": []
  },
  {
   "cell_type": "code",
   "execution_count": null,
   "id": "07149e28-ebee-4605-80d0-9b412b21f673",
   "metadata": {},
   "outputs": [],
   "source": []
  },
  {
   "cell_type": "code",
   "execution_count": null,
   "id": "ea443b7a-2007-44fd-942c-857c09b961f7",
   "metadata": {},
   "outputs": [],
   "source": []
  },
  {
   "cell_type": "code",
   "execution_count": null,
   "id": "14c2cf8d-8397-4e39-bff6-96c5d31a0ca4",
   "metadata": {},
   "outputs": [],
   "source": []
  }
 ],
 "metadata": {
  "kernelspec": {
   "display_name": "Python 3 (ipykernel)",
   "language": "python",
   "name": "python3"
  },
  "language_info": {
   "codemirror_mode": {
    "name": "ipython",
    "version": 3
   },
   "file_extension": ".py",
   "mimetype": "text/x-python",
   "name": "python",
   "nbconvert_exporter": "python",
   "pygments_lexer": "ipython3",
   "version": "3.12.4"
  }
 },
 "nbformat": 4,
 "nbformat_minor": 5
}
